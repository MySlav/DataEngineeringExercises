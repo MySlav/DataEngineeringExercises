{
 "cells": [
  {
   "cell_type": "markdown",
   "metadata": {},
   "source": [
    "<b><h1 style=\"font-size:30px;text-align: center;\">- Date Engineering  - Exercise 7 -</h1></b>\n",
    "<b><h1 style=\"font-size:25px;text-align: center;\">- Handling Missing Values in Python -</h1></b>\n",
    "\n",
    "<center><img src=\"https://www.algebra.hr/sveuciliste/wp-content/uploads/2023/11/algebra_UNIVERSITY-1-800x242.png\"/></center>\n",
    "\n",
    "=======================================================================================================\n",
    "\n",
    "\n",
    "<b>*Made: Novemeber 2024.* </b>\n",
    "\n",
    "<b>*Author: Mislav Spajić, mag. ing. comp.*</b>"
   ]
  },
  {
   "cell_type": "markdown",
   "metadata": {
    "_cell_guid": "79c7e3d0-c299-4dcb-8224-4455121ee9b0",
    "_uuid": "d629ff2d2480ee46fbb7e2d37f6b5fab8052498a",
    "collapsed": true,
    "jupyter": {
     "outputs_hidden": true
    }
   },
   "source": [
    "# Handling Missing Values in Python\n",
    "<center><img src=\"Missin.png\"/></center>\n",
    "\n",
    ">Real world data is messy and often contains a lot of missing values. There could be multiple  reasons for the missing values but primarily the reason for missingness can be attributed to \n",
    "\n",
    "| Reason for missing Data |  \n",
    "|--|\n",
    "|Data doesn't exist  |  \n",
    "|Data not collected due to human error.  |  \n",
    "|Data deleted accidently  |  \n",
    "|                         |\n",
    "\n",
    " Either way we need to address this issue before we  proceed with the modeling stuff. It is also important to note that some algorithms like `XGBoost` and `LightGBM` can treat missing data without any preprocessing.\n",
    "<hr>\n"
   ]
  },
  {
   "cell_type": "markdown",
   "metadata": {},
   "source": [
    "<h1>Table of Contents<span class=\"tocSkip\"></span></h1>\n",
    "<div class=\"toc\"><ul class=\"toc-item\"><li><span><a href=\"#Objective\" data-toc-modified-id=\"Objective-1\"><span class=\"toc-item-num\">1&nbsp;&nbsp;</span>Objective</a></span></li><li><span><a href=\"#Data\" data-toc-modified-id=\"Data-2\"><span class=\"toc-item-num\">2&nbsp;&nbsp;</span>Data</a></span></li><li><span><a href=\"#Loading-necessary-libraries-and-datasets\" data-toc-modified-id=\"Loading-necessary-libraries-and-datasets-3\"><span class=\"toc-item-num\">3&nbsp;&nbsp;</span>Loading necessary libraries and datasets</a></span><ul class=\"toc-item\"><li><span><a href=\"#Reading-in-the-dataset\" data-toc-modified-id=\"Reading-in-the-dataset-3.1\"><span class=\"toc-item-num\">3.1&nbsp;&nbsp;</span>Reading in the dataset</a></span></li><li><span><a href=\"#Examining-the-Target-column\" data-toc-modified-id=\"Examining-the-Target-column-3.2\"><span class=\"toc-item-num\">3.2&nbsp;&nbsp;</span>Examining the Target column</a></span></li></ul></li><li><span><a href=\"#Detecting-Missing-values\" data-toc-modified-id=\"Detecting-Missing-values-4\"><span class=\"toc-item-num\">4&nbsp;&nbsp;</span>Detecting Missing values</a></span><ul class=\"toc-item\"><li><span><a href=\"#Detecting-missing-values-numerically\" data-toc-modified-id=\"Detecting-missing-values-numerically-4.1\"><span class=\"toc-item-num\">4.1&nbsp;&nbsp;</span>Detecting missing values numerically</a></span></li><li><span><a href=\"#Detecting-missing-data-visually-using-Missingno-library\" data-toc-modified-id=\"Detecting-missing-data-visually-using-Missingno-library-4.2\"><span class=\"toc-item-num\">4.2&nbsp;&nbsp;</span>Detecting missing data visually using Missingno library</a></span><ul class=\"toc-item\"><li><span><a href=\"#Visualizing-the-locations-of-the-missing-data\" data-toc-modified-id=\"Visualizing-the-locations-of-the-missing-data-4.2.1\"><span class=\"toc-item-num\">4.2.1&nbsp;&nbsp;</span>Visualizing the locations of the missing data</a></span></li></ul></li></ul></li><li><span><a href=\"#Reasons-for-Missing-Values\" data-toc-modified-id=\"Reasons-for-Missing-Values-5\"><span class=\"toc-item-num\">5&nbsp;&nbsp;</span>Reasons for Missing Values</a></span><ul class=\"toc-item\"><li><span><a href=\"#Finding-reason-for-missing-data-using-matrix-plot\" data-toc-modified-id=\"Finding-reason-for-missing-data-using-matrix-plot-5.1\"><span class=\"toc-item-num\">5.1&nbsp;&nbsp;</span>Finding reason for missing data using matrix plot</a></span></li><li><span><a href=\"#Finding-reason-for-missing-data-using-a-Heatmap\" data-toc-modified-id=\"Finding-reason-for-missing-data-using-a-Heatmap-5.2\"><span class=\"toc-item-num\">5.2&nbsp;&nbsp;</span>Finding reason for missing data using a Heatmap</a></span></li><li><span><a href=\"#Finding-reason-for-missing-data-using-Dendrogram\" data-toc-modified-id=\"Finding-reason-for-missing-data-using-Dendrogram-5.3\"><span class=\"toc-item-num\">5.3&nbsp;&nbsp;</span>Finding reason for missing data using Dendrogram</a></span></li></ul></li><li><span><a href=\"#Treating-Missing-values\" data-toc-modified-id=\"Treating-Missing-values-6\"><span class=\"toc-item-num\">6&nbsp;&nbsp;</span>Treating Missing values</a></span><ul class=\"toc-item\"><li><span><a href=\"#Deletions\" data-toc-modified-id=\"Deletions-6.1\"><span class=\"toc-item-num\">6.1&nbsp;&nbsp;</span>Deletions</a></span><ul class=\"toc-item\"><li><span><a href=\"#Pairwise-Deletion\" data-toc-modified-id=\"Pairwise-Deletion-6.1.1\"><span class=\"toc-item-num\">6.1.1&nbsp;&nbsp;</span>Pairwise Deletion</a></span></li><li><span><a href=\"#Listwise-Deletion/-Dropping-rows\" data-toc-modified-id=\"Listwise-Deletion/-Dropping-rows-6.1.2\"><span class=\"toc-item-num\">6.1.2&nbsp;&nbsp;</span>Listwise Deletion/ Dropping rows</a></span></li><li><span><a href=\"#Dropping-complete-columns\" data-toc-modified-id=\"Dropping-complete-columns-6.1.3\"><span class=\"toc-item-num\">6.1.3&nbsp;&nbsp;</span>Dropping complete columns</a></span></li></ul></li><li><span><a href=\"#Imputations-Techniques-for-non-Time-Series-Problems\" data-toc-modified-id=\"Imputations-Techniques-for-non-Time-Series-Problems-6.2\"><span class=\"toc-item-num\">6.2&nbsp;&nbsp;</span>Imputations Techniques for non Time Series Problems</a></span></li><li><span><a href=\"#Imputations-Techniques-for-Time-Series-Problems\" data-toc-modified-id=\"Imputations-Techniques-for-Time-Series-Problems-6.3\"><span class=\"toc-item-num\">6.3&nbsp;&nbsp;</span>Imputations Techniques for Time Series Problems</a></span><ul class=\"toc-item\"><li><span><a href=\"#Time-Series-dataset\" data-toc-modified-id=\"Time-Series-dataset-6.3.1\"><span class=\"toc-item-num\">6.3.1&nbsp;&nbsp;</span>Time Series dataset</a></span></li><li><span><a href=\"#Imputing-using-ffill\" data-toc-modified-id=\"Imputing-using-ffill-6.3.2\"><span class=\"toc-item-num\">6.3.2&nbsp;&nbsp;</span>Imputing using ffill</a></span></li><li><span><a href=\"#Imputation-using-bfill\" data-toc-modified-id=\"Imputation-using-bfill-6.3.3\"><span class=\"toc-item-num\">6.3.3&nbsp;&nbsp;</span>Imputation using bfill</a></span></li><li><span><a href=\"#Imputation-using-Linear-Interpolation-method\" data-toc-modified-id=\"Imputation-using-Linear-Interpolation-method-6.3.4\"><span class=\"toc-item-num\">6.3.4&nbsp;&nbsp;</span>Imputation using Linear Interpolation method</a></span></li></ul></li><li><span><a href=\"#Advanced-Imputation-Techniques\" data-toc-modified-id=\"Advanced-Imputation-Techniques-6.4\"><span class=\"toc-item-num\">6.4&nbsp;&nbsp;</span>Advanced Imputation Techniques</a></span><ul class=\"toc-item\"><li><span><a href=\"#K-Nearest-Neighbor-Imputation\" data-toc-modified-id=\"K-Nearest-Neighbor-Imputation-6.4.1\"><span class=\"toc-item-num\">6.4.1&nbsp;&nbsp;</span>K-Nearest Neighbor Imputation</a></span></li><li><span><a href=\"#Multivariate-feature-imputation---Multivariate-imputation-by-chained-equations-(MICE)\" data-toc-modified-id=\"Multivariate-feature-imputation---Multivariate-imputation-by-chained-equations-(MICE)-6.4.2\"><span class=\"toc-item-num\">6.4.2&nbsp;&nbsp;</span>Multivariate feature imputation - Multivariate imputation by chained equations (MICE)</a></span></li></ul></li></ul></li><li><span><a href=\"#Algorithms-which-handle-missing-values\" data-toc-modified-id=\"Algorithms-which-handle-missing-values-7\"><span class=\"toc-item-num\">7&nbsp;&nbsp;</span>Algorithms which handle missing values</a></span></li><li><span><a href=\"#Conclusion\" data-toc-modified-id=\"Conclusion-8\"><span class=\"toc-item-num\">8&nbsp;&nbsp;</span>Conclusion</a></span></li><li><span><a href=\"#References-and-good-resources\" data-toc-modified-id=\"References-and-good-resources-9\"><span class=\"toc-item-num\">9&nbsp;&nbsp;</span>References and good resources</a></span></li></ul></div>"
   ]
  },
  {
   "cell_type": "markdown",
   "metadata": {},
   "source": [
    "# Objective\n",
    "The objective of this notebook is to detect missing values and then go over some of the methods used for imputing them.\n",
    "<hr>\n",
    "\n",
    "\n",
    "# Data\n",
    "\n",
    "There are two publically available datasets which will be used to explain the concepts:\n",
    "\n",
    "* 1. [Titanic Dataset](https://www.kaggle.com/c/titanic) for Non Time Series problem\n",
    "* 2. [Air Quality Data in India (2015 - 2020)](https://www.kaggle.com/rohanrao/air-quality-data-in-india) for Time Series problem\n",
    "\n",
    "\n",
    "# Loading necessary libraries and datasets"
   ]
  },
  {
   "cell_type": "code",
   "execution_count": null,
   "metadata": {
    "_kg_hide-input": true
   },
   "outputs": [],
   "source": [
    "import os\n",
    "import pandas as pd\n",
    "import numpy as np\n",
    "\n",
    "import matplotlib.pyplot as plt\n",
    "import seaborn as sns\n",
    "\n",
    "from sklearn import preprocessing\n",
    "from sklearn.model_selection import train_test_split, cross_val_score, StratifiedKFold\n",
    "from sklearn.linear_model import LogisticRegression\n",
    "\n",
    "import missingno as msno"
   ]
  },
  {
   "cell_type": "markdown",
   "metadata": {},
   "source": [
    "## Reading in the dataset\n",
    "* Reading in the Titanic Dataset."
   ]
  },
  {
   "cell_type": "code",
   "execution_count": null,
   "metadata": {},
   "outputs": [],
   "source": [
    "os.listdir('titanic')"
   ]
  },
  {
   "cell_type": "code",
   "execution_count": null,
   "metadata": {},
   "outputs": [],
   "source": [
    "train=pd.read_csv('titanic/train.csv')\n",
    "test=pd.read_csv('titanic/test.csv')\n",
    "\n",
    "print('Training data shape: ', train.shape)\n",
    "print('Testing data shape: ', test.shape)\n",
    "\n",
    "# First few rows of the training dataset\n",
    "train.head()\n"
   ]
  },
  {
   "cell_type": "markdown",
   "metadata": {},
   "source": [
    "## Examining the Target column \n",
    "\n",
    ">For each passenger in the test set, we need to create a model that predicts whether or not the passengers survived the sinking of the Titanic. Hence Survived is that target column in the dataset. Let's examine the Distribution of the target column"
   ]
  },
  {
   "cell_type": "code",
   "execution_count": null,
   "metadata": {},
   "outputs": [],
   "source": [
    " \n",
    "train['Survived'].value_counts()"
   ]
  },
  {
   "cell_type": "code",
   "execution_count": null,
   "metadata": {
    "_kg_hide-input": true
   },
   "outputs": [],
   "source": [
    "s = sns.countplot(x = 'Survived',data = train)\n",
    "sizes=[]\n",
    "for p in s.patches:\n",
    "    height = p.get_height()\n",
    "    sizes.append(height)\n",
    "    s.text(p.get_x()+p.get_width()/2.,\n",
    "            height + 3,\n",
    "            '{:1.2f}%'.format(height/len(train)*100),\n",
    "            ha=\"center\", fontsize=14) "
   ]
  },
  {
   "cell_type": "code",
   "execution_count": null,
   "metadata": {},
   "outputs": [],
   "source": [
    "plt.show()"
   ]
  },
  {
   "cell_type": "markdown",
   "metadata": {},
   "source": [
    "Here:\n",
    "* 0: Did not Survive while \n",
    "* 1: Survived. \n",
    "\n",
    "Clearly, less people survived the accident."
   ]
  },
  {
   "cell_type": "markdown",
   "metadata": {},
   "source": [
    ">Since the focus of the notebook is to detect and handle missing values, we'll jump directly into it. Let's now look at a step by step process to manage the missing values in a dataset.\n",
    "<hr>"
   ]
  },
  {
   "cell_type": "markdown",
   "metadata": {},
   "source": [
    "# Detecting Missing values\n",
    "\n",
    "## Detecting missing values numerically \n",
    "\n",
    ">The first step is to detect the count/percentage of missing values in every column of the dataset. This will give an idea about the distribution of missing values."
   ]
  },
  {
   "cell_type": "code",
   "execution_count": null,
   "metadata": {
    "_kg_hide-input": true
   },
   "outputs": [],
   "source": [
    "# credit: https://www.kaggle.com/willkoehrsen/start-here-a-gentle-introduction. \n",
    "# One of the best notebooks on getting started with a ML problem.\n",
    "\n",
    "def missing_values_table(df):\n",
    "        # Total missing values\n",
    "        mis_val = df.isnull().sum()\n",
    "        \n",
    "        # Percentage of missing values\n",
    "        mis_val_percent = 100 * df.isnull().sum() / len(df)\n",
    "        \n",
    "        # Make a table with the results\n",
    "        mis_val_table = pd.concat([mis_val, mis_val_percent], axis=1)\n",
    "        \n",
    "        # Rename the columns\n",
    "        mis_val_table_ren_columns = mis_val_table.rename(\n",
    "        columns = {0 : 'Missing Values', 1 : '% of Total Values'})\n",
    "        \n",
    "        # Sort the table by percentage of missing descending\n",
    "        mis_val_table_ren_columns = mis_val_table_ren_columns[\n",
    "            mis_val_table_ren_columns.iloc[:,1] != 0].sort_values(\n",
    "        '% of Total Values', ascending=False).round(1)\n",
    "        \n",
    "        # Print some summary information\n",
    "        print (\"Your selected dataframe has \" + str(df.shape[1]) + \" columns.\\n\"      \n",
    "            \"There are \" + str(mis_val_table_ren_columns.shape[0]) +\n",
    "              \" columns that have missing values.\")\n",
    "        \n",
    "        # Return the dataframe with missing information\n",
    "        return mis_val_table_ren_columns\n",
    "\n"
   ]
  },
  {
   "cell_type": "code",
   "execution_count": null,
   "metadata": {},
   "outputs": [],
   "source": [
    "train_missing= missing_values_table(train)\n",
    "train_missing"
   ]
  },
  {
   "cell_type": "code",
   "execution_count": null,
   "metadata": {},
   "outputs": [],
   "source": [
    "test_missing= missing_values_table(test)\n",
    "test_missing"
   ]
  },
  {
   "cell_type": "markdown",
   "metadata": {},
   "source": [
    "Both the train and test set have the same proportion of the missing values. "
   ]
  },
  {
   "cell_type": "markdown",
   "metadata": {},
   "source": [
    "## Detecting missing data visually using Missingno library\n",
    "\n",
    ">To graphically analyse the missingness of the data, let's use a library called [Missingno](https://github.com/ResidentMario/missingno) It is a package for graphical analysis of missing values. To use this library, we need to import it as follows: `import missingno as msno`"
   ]
  },
  {
   "cell_type": "code",
   "execution_count": null,
   "metadata": {},
   "outputs": [],
   "source": [
    "msno.bar(train)\n",
    "plt.show()"
   ]
  },
  {
   "cell_type": "markdown",
   "metadata": {},
   "source": [
    ">The bar chart above gives a quick graphical overview of the completeness of the dataset. We can see that Age, Cabin and embarked columns have missing values. Next,it would make sense to find out the locations of the missing data."
   ]
  },
  {
   "cell_type": "markdown",
   "metadata": {},
   "source": [
    "### Visualizing the locations of the missing data \n",
    "\n",
    ">The [msno.matrix](https://github.com/ResidentMario/missingno#matrix) nullity matrix is a data-dense display which lets you quickly visually pick out patterns in data completion.\n"
   ]
  },
  {
   "cell_type": "code",
   "execution_count": null,
   "metadata": {},
   "outputs": [],
   "source": [
    "msno.matrix(train)\n",
    "plt.show()"
   ]
  },
  {
   "cell_type": "markdown",
   "metadata": {},
   "source": [
    ">* The plot appears blank(white) wherever there are missing values. For instance, in Embarked column there are only two instances of missing data, hence the two white lines.\n",
    ">\n",
    ">* The sparkline on the right gives an idea of the general shape of the completeness of the data and points out the row with the minimum nullities and the total number of columns in a given dataset, at the bottom.\n",
    ">\n",
    ">It is also possible to sample the dataset to pinpoint the exact location of the missing values. For instance let's check the first 100 rows."
   ]
  },
  {
   "cell_type": "code",
   "execution_count": null,
   "metadata": {},
   "outputs": [],
   "source": [
    "msno.matrix(train.sample(100))\n",
    "plt.show()"
   ]
  },
  {
   "cell_type": "markdown",
   "metadata": {},
   "source": [
    "This shows that the Embarked column has no nullity in the first 100 cases."
   ]
  },
  {
   "cell_type": "markdown",
   "metadata": {},
   "source": [
    "# Reasons for Missing Values \n",
    "\n",
    ">Before we start treating the missing values ,it is important to understand the various reasons for the missingness in data. Broadly speaking, there can be three possible reasons:\n",
    "\n",
    "\n",
    "\n",
    "**1. Missing Completely at Random (MCAR) **\n",
    "\n",
    ">The missing values on a given variable (Y) are not associated with other variables in a given data set or with the variable (Y) itself. In other words, there is no particular reason for the missing values.\n",
    "\n",
    "**2. Missing at Random (MAR) **\n",
    "\n",
    ">MAR occurs when the missingness is not random, but where missingness can be fully accounted for by variables where there is complete information.\n",
    "\n",
    "**3. Missing Not at Random (MNAR) **\n",
    ">Missingness depends on unobserved data or the value of the missing data itself. \n",
    "\n",
    "*All definitions taken from Wikipedia: https://en.wikipedia.org/wiki/Missing_data*\n",
    "\n",
    "\n",
    ">Now let us look at nullity matrix again to see if can find what type of missingness is present in the dataset.\n"
   ]
  },
  {
   "cell_type": "markdown",
   "metadata": {},
   "source": [
    "## Finding reason for missing data using matrix plot "
   ]
  },
  {
   "cell_type": "code",
   "execution_count": null,
   "metadata": {},
   "outputs": [],
   "source": [
    "msno.matrix(train)\n",
    "plt.show()"
   ]
  },
  {
   "cell_type": "markdown",
   "metadata": {},
   "source": [
    ">* The `Embarked` Column has very few missing values and donot seem to be correlated with any other column, Hence, the missingness in Embarked column can be attributed as Missing Completely at Random.\n",
    "* Both the `Age` and the `Cabin` columns have a lot of missing values.This could be a case of MAR as we cannot directly observe the reason for missingness of data in these columns.\n",
    "\n",
    "The missingno package also let's us sort the graph by a particluar column. Let's sort the values by `Age` and `Cabin` column to see if there is a pattern in the missing values"
   ]
  },
  {
   "cell_type": "code",
   "execution_count": null,
   "metadata": {},
   "outputs": [],
   "source": [
    "#sorted by Age\n",
    "sorted = train.sort_values('Age')\n",
    "msno.matrix(sorted)\n",
    "plt.show()"
   ]
  },
  {
   "cell_type": "markdown",
   "metadata": {},
   "source": [
    "Hence it is clear that here is no relation between the missingness in Age and Cabin column.To cement this conclusion further we can also draw a Heatmap among the different variables in the dataset."
   ]
  },
  {
   "cell_type": "markdown",
   "metadata": {},
   "source": [
    "## Finding reason for missing data using a Heatmap "
   ]
  },
  {
   "cell_type": "code",
   "execution_count": null,
   "metadata": {},
   "outputs": [],
   "source": [
    "msno.heatmap(train)\n",
    "plt.show()"
   ]
  },
  {
   "cell_type": "markdown",
   "metadata": {},
   "source": [
    "The heatmap function shows that there are no strong correlations between missing values of different features. This is good; low correlations further indicate that the data are MAR."
   ]
  },
  {
   "cell_type": "markdown",
   "metadata": {},
   "source": [
    "## Finding reason for missing data using Dendrogram \n",
    "A dendogram is a tree diagram of missingness. It groups the highly correlated variables together."
   ]
  },
  {
   "cell_type": "code",
   "execution_count": null,
   "metadata": {},
   "outputs": [],
   "source": [
    "msno.dendrogram(train)\n",
    "plt.show()"
   ]
  },
  {
   "attachments": {},
   "cell_type": "markdown",
   "metadata": {},
   "source": [
    ">Let's read the above dendrogram from a top-down perspective: \n",
    "* Cluster leaves which linked together at a distance of zero fully predict one another's presence—one variable might always be empty when another is filled, or they might always both be filled or both empty, and so on(missingno documentation)\n",
    ">\n",
    ">\n",
    ">* the missingness of Embarked tends to be more similar to Age than to Cabin and so on.However, in this particluar case, the correlation is high since Embarked column has a very few missing values.\n",
    "\n",
    "This dataset doesn't have much missing values but if you use the same methodology on datasets having a lot of missing values, some interesting pattern will definitely emerge."
   ]
  },
  {
   "cell_type": "markdown",
   "metadata": {},
   "source": [
    "# Treating Missing values  \n",
    "\n",
    "After having identified the patterns in missing values, it is important to treat them too. Here is a flowchart which could prove handy:\n",
    "\n",
    "\n",
    "\n",
    "## Deletions \n",
    "\n",
    "<center><img src=\"Deletions.png\"/></center>\n",
    "\n",
    ">Deletion means to delete the missing values from a dataset. This is however not recommended as it might result in loss of information from the dataset. We should only delete the missing values from a dataset if their proportion is very small. Deletions are further of three types: \n",
    "\n",
    "### Pairwise Deletion \n",
    "\n",
    "Parwise Deletion is used when values are missing completely at random i.e MCAR. During Pairwise deletion, only the missing values are deleted. All operations in pandas like mean,sum etc intrinsically skip missing values.\n",
    "\n",
    "\n"
   ]
  },
  {
   "cell_type": "code",
   "execution_count": null,
   "metadata": {},
   "outputs": [],
   "source": [
    "train.isnull().sum()"
   ]
  },
  {
   "cell_type": "code",
   "execution_count": null,
   "metadata": {},
   "outputs": [],
   "source": [
    "train_1 = train.copy()\n",
    "train_1['Age'].mean() #pandas skips the missing values and calculates mean of the remaining values."
   ]
  },
  {
   "cell_type": "markdown",
   "metadata": {},
   "source": [
    "\n",
    "### Listwise Deletion/ Dropping rows\n",
    "\n",
    ">During Listwise deletion, complete rows(which contain the missing values) are deleted. As a result, it is also called Complete Case deletion. Like Pairwise deletion, listwise deletions are also only used for MCAR values.\n"
   ]
  },
  {
   "cell_type": "code",
   "execution_count": null,
   "metadata": {},
   "outputs": [],
   "source": [
    "#Drop rows which contains any NaN or missing value for Age column\n",
    "train_1.dropna(subset=['Age'],how='any',inplace=True)\n",
    "train_1['Age'].isnull().sum()"
   ]
  },
  {
   "cell_type": "markdown",
   "metadata": {},
   "source": [
    ">The Age column doesn't have any missing values.A major diadvantage of Listwise deletion is that a major chunk of data and hence a lot of information is lost. Hence, it is advisable to use it only when the number of missing values is very small."
   ]
  },
  {
   "cell_type": "markdown",
   "metadata": {},
   "source": [
    "\n",
    "### Dropping complete columns \n",
    "\n",
    "If a column contains a lot of missing values, say more than 80%, and the feature is not significant, you might want to delete that feature. However, again, it is not a good methodology to delete data.\n"
   ]
  },
  {
   "cell_type": "markdown",
   "metadata": {},
   "source": [
    "## Imputations Techniques for non Time Series Problems \n",
    "\n",
    "<center><img src=\"Impute.png\"/></center>\n",
    "\n",
    ">Imputation refers to replacing missing data with substituted values.There are a lot of ways in which the missing values can be imputed depending upon the nature of the problem and data. Dependng upon the nature of the problem, imputation techniques can be broadly they can be classified as follows:\n",
    "\n",
    "\n",
    "### Basic Imputation Techniques\n",
    "  \n",
    "  - Imputating with a constant value\n",
    "  - Imputation using the statistics (mean, median or most frequent) of each column in which the missing values are located\n",
    "\n",
    "For this we shall use the `The SimpleImputer` class from sklearn."
   ]
  },
  {
   "cell_type": "code",
   "execution_count": null,
   "metadata": {},
   "outputs": [],
   "source": [
    "# imputing with a constant\n",
    "\n",
    "from sklearn.impute import SimpleImputer\n",
    "train_constant = train.copy()\n",
    "#setting strategy to 'constant' \n",
    "mean_imputer = SimpleImputer(strategy='constant') # imputing using constant value\n",
    "train_constant.iloc[:,:] = mean_imputer.fit_transform(train_constant)\n",
    "train_constant.isnull().sum()"
   ]
  },
  {
   "cell_type": "code",
   "execution_count": null,
   "metadata": {},
   "outputs": [],
   "source": [
    "from sklearn.impute import SimpleImputer\n",
    "train_most_frequent = train.copy()\n",
    "#setting strategy to 'mean' to impute by the mean\n",
    "mean_imputer = SimpleImputer(strategy='most_frequent')# strategy can also be mean or median \n",
    "train_most_frequent.iloc[:,:] = mean_imputer.fit_transform(train_most_frequent)"
   ]
  },
  {
   "cell_type": "code",
   "execution_count": null,
   "metadata": {},
   "outputs": [],
   "source": [
    "train_most_frequent.isnull().sum()"
   ]
  },
  {
   "cell_type": "markdown",
   "metadata": {},
   "source": [
    "## Imputations Techniques for Time Series Problems\n",
    "\n",
    "Now let's look at ways to impute data in a typical time series problem. Tackling missing values in time Series problem is a bit different. The `fillna()` method is used for imputing missing values in such problems.\n",
    "\n",
    "* Basic Imputation Techniques\n",
    "  - 'ffill' or 'pad' - Replace NaN s with last observed value\n",
    "  - 'bfill' or 'backfill' - Replace NaN s with next observed value\n",
    "  -  Linear interpolation method\n",
    "\n",
    "### Time Series dataset\n",
    "\n",
    "The dataset is called [Air Quality Data in India (2015 - 2020)](https://www.kaggle.com/rohanrao/air-quality-data-in-india) Tand it contains air quality data and AQI (Air Quality Index) at hourly and daily level of various stations across multiple cities in India.The dataset has a lot of missing values and and is a classic Time series problem."
   ]
  },
  {
   "cell_type": "code",
   "execution_count": null,
   "metadata": {},
   "outputs": [],
   "source": [
    "os.listdir('air-quality-data-in-india')"
   ]
  },
  {
   "cell_type": "code",
   "execution_count": null,
   "metadata": {},
   "outputs": [],
   "source": [
    "city_day = pd.read_csv('air-quality-data-in-india/city_day.csv',parse_dates=True,index_col='Date')\n",
    "city_day1=city_day.copy(deep=True)\n",
    "city_day.head()"
   ]
  },
  {
   "cell_type": "markdown",
   "metadata": {},
   "source": [
    "I won't go much into explaining the data. In this notebook, let's keep our focus on the missing values only. As id evident, city_day dataframe consists of daily pollution level data of some of the prominent cities in India.\n",
    "\n"
   ]
  },
  {
   "cell_type": "code",
   "execution_count": null,
   "metadata": {},
   "outputs": [],
   "source": [
    "#Missing Values\n",
    "city_day_missing= missing_values_table(city_day)\n",
    "city_day_missing"
   ]
  },
  {
   "cell_type": "markdown",
   "metadata": {},
   "source": [
    "There are a lot of missing values and some of the columns like Xylene and PM10 have more than 50% of the values missing. Let's now see how we can impute these missing values.\n",
    "\n"
   ]
  },
  {
   "cell_type": "code",
   "execution_count": null,
   "metadata": {},
   "outputs": [],
   "source": [
    "# Imputation using ffill/pad\n",
    "# Imputing Xylene value\n",
    "\n",
    "city_day['Xylene'][50:64]\n"
   ]
  },
  {
   "cell_type": "markdown",
   "metadata": {},
   "source": [
    "Above we see, there are 3 missing values in the Xylene column. \n",
    "\n",
    "### Imputing using ffill"
   ]
  },
  {
   "cell_type": "code",
   "execution_count": null,
   "metadata": {},
   "outputs": [],
   "source": [
    "city_day.fillna(method='ffill',inplace=True)\n",
    "city_day['Xylene'][50:65]"
   ]
  },
  {
   "cell_type": "markdown",
   "metadata": {},
   "source": [
    "We can see that all missing values have been filled with the last observed values.\n",
    "\n",
    "### Imputation using bfill"
   ]
  },
  {
   "cell_type": "code",
   "execution_count": null,
   "metadata": {},
   "outputs": [],
   "source": [
    "# Imputing AQI value\n",
    "\n",
    "city_day['AQI'][20:30]"
   ]
  },
  {
   "cell_type": "code",
   "execution_count": null,
   "metadata": {},
   "outputs": [],
   "source": [
    "city_day.fillna(method='bfill',inplace=True)\n",
    "city_day['AQI'][20:30]"
   ]
  },
  {
   "cell_type": "markdown",
   "metadata": {},
   "source": [
    "We can see that all missing values have been filled with the next observed values."
   ]
  },
  {
   "cell_type": "markdown",
   "metadata": {},
   "source": [
    "### Imputation using Linear Interpolation method\n",
    "\n",
    "Time series data has a lot of variations against time. Hence, imputing using backfill and forward fill isn't the ebst possible solution to address the missing value problem. A more apt alternative would be to use interpolation methods, where the values are filled with incrementing or decrementing values.\n",
    "\n",
    "[Linear interpolation](https://www.lexjansen.com/nesug/nesug01/ps/ps8026.pdf) is an imputation technique that assumes a linear relationship between data points and utilises non-missing values from adjacent data points to compute a value for a missing data point. \n",
    "\n",
    "Refer to the official documentation for a complete list of interpolation strategies [here](https://pandas.pydata.org/pandas-docs/stable/reference/api/pandas.DataFrame.interpolate.html)"
   ]
  },
  {
   "cell_type": "code",
   "execution_count": null,
   "metadata": {},
   "outputs": [],
   "source": [
    "city_day1['Xylene'][50:65]"
   ]
  },
  {
   "cell_type": "code",
   "execution_count": null,
   "metadata": {},
   "outputs": [],
   "source": [
    "# Interpolate using the linear method\n",
    "city_day1.interpolate(limit_direction=\"both\",inplace=True)\n",
    "city_day1['Xylene'][50:65]"
   ]
  },
  {
   "cell_type": "markdown",
   "metadata": {},
   "source": [
    "## Advanced Imputation Techniques \n",
    "\n",
    "Advanced imputation techniques uses machine learning algorithms to impute the missing values in a dataset unlike the previous techniques where we used other column values to predict the missing values. We shall look at the following two techniques in this notebook:\n",
    "\n",
    "* [Nearest neighbors imputation](https://scikit-learn.org/stable/modules/impute.html#nearest-neighbors-imputation)\n",
    "* [Multivariate feature imputation](https://scikit-learn.org/stable/modules/impute.html#multivariate-feature-imputation)\n",
    "\n",
    "### K-Nearest Neighbor Imputation\n",
    "\n",
    "The [KNNImputer class](https://scikit-learn.org/stable/modules/impute.html#multivariate-feature-imputation) provides imputation for filling in missing values using the k-Nearest Neighbors approach.Each missing feature is imputed using values from n_neighbors nearest neighbors that have a value for the feature. The feature of the neighbors are averaged uniformly or weighted by distance to each neighbor. "
   ]
  },
  {
   "cell_type": "code",
   "execution_count": null,
   "metadata": {},
   "outputs": [],
   "source": [
    "train_knn = train.copy(deep=True)"
   ]
  },
  {
   "cell_type": "code",
   "execution_count": null,
   "metadata": {},
   "outputs": [],
   "source": [
    "train"
   ]
  },
  {
   "cell_type": "code",
   "execution_count": null,
   "metadata": {},
   "outputs": [],
   "source": [
    "from sklearn.impute import KNNImputer\n",
    "train_knn = train.copy(deep=True)\n",
    "\n",
    "knn_imputer = KNNImputer(n_neighbors=2, weights=\"uniform\")\n",
    "train_knn['Age'] = knn_imputer.fit_transform(train_knn[['Age']])"
   ]
  },
  {
   "cell_type": "code",
   "execution_count": null,
   "metadata": {},
   "outputs": [],
   "source": [
    "train_knn['Age'].isnull().sum()\n"
   ]
  },
  {
   "cell_type": "markdown",
   "metadata": {},
   "source": [
    "### Multivariate feature imputation - Multivariate imputation by chained equations (MICE)\n",
    "A strategy for imputing missing values by modeling each feature with missing values as a function of other features in a round-robin fashion. It performns multiple regressions over random sample ofthe data, then takes the average ofthe multiple regression values and uses that value to impute the missing value. In sklearn, it is implemented as follows:\n",
    "\n"
   ]
  },
  {
   "cell_type": "code",
   "execution_count": null,
   "metadata": {},
   "outputs": [],
   "source": [
    "from sklearn.experimental import enable_iterative_imputer\n",
    "from sklearn.impute import IterativeImputer\n",
    "train_mice = train.copy(deep=True)\n",
    "\n",
    "mice_imputer = IterativeImputer()\n",
    "train_mice['Age'] = mice_imputer.fit_transform(train_mice[['Age']])"
   ]
  },
  {
   "cell_type": "code",
   "execution_count": null,
   "metadata": {},
   "outputs": [],
   "source": [
    "train_mice['Age'].isnull().sum()"
   ]
  },
  {
   "cell_type": "markdown",
   "metadata": {},
   "source": [
    "# Algorithms which handle missing values\n",
    "\n",
    "Some algprithms like XGBoost and LightGBM can handle missing values without any preprocessing, by supplying relevant parameters.\n",
    "\n",
    "* [XGBoost](https://xgboost.readthedocs.io/en/latest/python/python_api.html#module-xgboost.sklearn)\n",
    "<center><img src=\"xgboost.png\"/></center>\n",
    "\n",
    "* [LightGBm](https://lightgbm.readthedocs.io/en/latest/Advanced-Topics.html)\n",
    "<center><img src=\"lightgbm.png\"/></center>\n",
    "\n",
    "\n",
    "# Conclusion\n",
    "\n",
    "Well, there is no single best way to handle missing values. One needs to experiment with different methods and then decide which method is best for a particular problem."
   ]
  },
  {
   "cell_type": "markdown",
   "metadata": {},
   "source": [
    "# References and good resources \n",
    "\n",
    "* [Dealing with Missing Data in Python](https://campus.datacamp.com/courses/dealing-with-missing-data-in-python/the-problem-with-missing-data?ex=1)\n",
    "* [How to Handle Missing Data](https://towardsdatascience.com/how-to-handle-missing-data-8646b18db0d4)"
   ]
  }
 ],
 "metadata": {
  "kernelspec": {
   "display_name": "Python 3 (ipykernel)",
   "language": "python",
   "name": "python3"
  },
  "language_info": {
   "codemirror_mode": {
    "name": "ipython",
    "version": 3
   },
   "file_extension": ".py",
   "mimetype": "text/x-python",
   "name": "python",
   "nbconvert_exporter": "python",
   "pygments_lexer": "ipython3",
   "version": "3.12.2"
  }
 },
 "nbformat": 4,
 "nbformat_minor": 4
}
