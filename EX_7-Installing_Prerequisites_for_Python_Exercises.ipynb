{
 "cells": [
  {
   "cell_type": "markdown",
   "id": "8c7f5932-826f-41bb-89a6-d06e99d358b4",
   "metadata": {},
   "source": [
    "<b><h1 style=\"font-size:30px;text-align: center;\">- Date Engineering  - Exercise 7 -</h1></b>\n",
    "<b><h1 style=\"font-size:25px;text-align: center;\">- Installing Prerequisites for Python Exercises -</h1></b>\n",
    "\n",
    "<center><img src=\"https://www.algebra.hr/sveuciliste/wp-content/uploads/2023/11/algebra_UNIVERSITY-1-800x242.png\"/></center>\n",
    "\n",
    "=======================================================================================================\n",
    "\n",
    "\n",
    "<b>*Made: Novemeber 2024.* </b>\n",
    "\n",
    "<b>*Author: Mislav Spajić, mag. ing. comp.*</b>"
   ]
  },
  {
   "cell_type": "markdown",
   "id": "019e4f12-8217-48d2-aae0-9861f02dd39f",
   "metadata": {},
   "source": [
    "# Installing Prerequisites for Python Exercises"
   ]
  },
  {
   "cell_type": "markdown",
   "id": "256450a0-7606-4196-8eea-842e30c6e4ae",
   "metadata": {},
   "source": [
    "You can install packages in this environment using pip and conda. Shell command can be invoked using \"!\" at the beggining of the cell.\n",
    "\n",
    "\n",
    "Firstly, we will install psycopg which is used to connect postgresql DBs."
   ]
  },
  {
   "cell_type": "code",
   "execution_count": null,
   "id": "4f4da948-5b87-43d8-868f-148360161f68",
   "metadata": {},
   "outputs": [],
   "source": [
    "!pip install psycopg"
   ]
  },
  {
   "cell_type": "code",
   "execution_count": null,
   "id": "8144d8f7-9d66-4b15-b8b7-03718b5ab25a",
   "metadata": {},
   "outputs": [],
   "source": [
    "# importing package in python\n",
    "import psycopg"
   ]
  },
  {
   "cell_type": "code",
   "execution_count": null,
   "id": "cdb7f70a-d1a7-4f7e-b700-7dfb9c7dafda",
   "metadata": {},
   "outputs": [],
   "source": [
    "#defining connection\n",
    "connection = psycopg.connect(\n",
    "    dbname=\"transactional\",\n",
    "    user=\"myuser\",\n",
    "    password=\"mypassword\",\n",
    "    host=\"postgres-pgadmin-pod\",\n",
    "    port=\"5432\"\n",
    ")"
   ]
  },
  {
   "cell_type": "code",
   "execution_count": null,
   "id": "9e4a64b3-1da4-428a-be8a-e9eae831addd",
   "metadata": {},
   "outputs": [],
   "source": [
    "#defining cursor\n",
    "cursor = connection.cursor()"
   ]
  },
  {
   "cell_type": "code",
   "execution_count": null,
   "id": "007cbfb2-d4f8-4195-b420-7e7f0e9b7c59",
   "metadata": {},
   "outputs": [],
   "source": [
    "# Executing SQL queries\n",
    "cursor.execute(\"SELECT * FROM customer\")\n",
    "dataset = cursor.fetchall()"
   ]
  },
  {
   "cell_type": "code",
   "execution_count": null,
   "id": "091c79a5-c4ce-4261-884b-3f21e8c7752d",
   "metadata": {},
   "outputs": [],
   "source": [
    "#Let's see the data\n",
    "for row in dataset:\n",
    "    print(row)"
   ]
  },
  {
   "cell_type": "code",
   "execution_count": null,
   "id": "1d02fe9d-95f9-4d91-b100-f47dc252646f",
   "metadata": {},
   "outputs": [],
   "source": [
    "# Closing the cursor - good practice\n",
    "cursor.close()\n"
   ]
  },
  {
   "cell_type": "code",
   "execution_count": null,
   "id": "e8b94948-3e5e-410e-9e25-f3df0056d4f4",
   "metadata": {},
   "outputs": [],
   "source": [
    "# also closing the connection\n",
    "connection.close()"
   ]
  },
  {
   "cell_type": "markdown",
   "id": "49bdcae5-71f2-4ef2-a3bf-3c1eb280ffec",
   "metadata": {},
   "source": [
    "### Connecting to PostgreSQL with SQLAlchemy\n",
    "\n",
    "While **psycopg** is a widely used library for connecting to PostgreSQL in Python, **SQLAlchemy** provides a higher-level abstraction that builds on top of psycopg. It acts as an Object-Relational Mapping (ORM) tool, offering a structured way to interact with databases.\n",
    "\n",
    "### Why Use SQLAlchemy with Pandas?\n",
    "\n",
    "1. **Seamless Integration**: SQLAlchemy's connection objects work smoothly with Pandas, enabling the use of `pd.read_sql()` and `to_sql()` for efficient data extraction and insertion between the database and DataFrames.\n",
    "   \n",
    "2. **Simplified Connection Management**: SQLAlchemy handles connection pooling and lifecycle management, reducing the risk of unclosed or hanging connections that can occur with direct psycopg usage.\n",
    "\n",
    "3. **ORM Features**: Beyond raw SQL, SQLAlchemy allows interaction with databases using Python classes and methods, improving code maintainability and abstracting complex database operations.\n",
    "\n",
    "4. **Database Portability**: Using SQLAlchemy, your code becomes database-agnostic, making it easier to switch to other database systems with minimal changes.\n",
    "\n",
    "### Summary\n",
    "\n",
    "The combination of **SQLAlchemy** and **Pandas** provides a powerful and flexible framework for handling large datasets and conducting analytics in Python, offering benefits like improved code organization, connection management, and database interaction.\n"
   ]
  },
  {
   "cell_type": "code",
   "execution_count": null,
   "id": "b558608a-b07d-42e6-9373-7e01802b2ef7",
   "metadata": {},
   "outputs": [],
   "source": [
    "#importing needed stuff\n",
    "from sqlalchemy import create_engine\n",
    "from urllib.parse import quote_plus"
   ]
  },
  {
   "cell_type": "code",
   "execution_count": null,
   "id": "895cd7cd-72b2-4aa1-8677-1a2ee3ab4637",
   "metadata": {},
   "outputs": [],
   "source": [
    "user = \"myuser\"\n",
    "pw = \"mypassword\"\n",
    "db = \"transactional\"\n",
    "host = \"postgres-pgadmin-pod\"\n",
    "port = 5432"
   ]
  },
  {
   "cell_type": "code",
   "execution_count": null,
   "id": "702f74a2-e5ac-4f2f-9a55-171b0ed5918d",
   "metadata": {},
   "outputs": [],
   "source": [
    "uri = f\"postgresql+psycopg://{quote_plus(user)}:{quote_plus(pw)}@{host}:{port}/{db}\""
   ]
  },
  {
   "cell_type": "code",
   "execution_count": null,
   "id": "be28faaa-2df7-4c1e-8415-a10a65b4432e",
   "metadata": {},
   "outputs": [],
   "source": [
    "uri\n"
   ]
  },
  {
   "cell_type": "code",
   "execution_count": null,
   "id": "ec61c1dc-697a-4369-b5d0-04f180ee1f1c",
   "metadata": {},
   "outputs": [],
   "source": [
    "alchemyEngine = create_engine(uri)"
   ]
  },
  {
   "cell_type": "code",
   "execution_count": null,
   "id": "19835e6f-3eff-45fd-9da6-742088109e96",
   "metadata": {},
   "outputs": [],
   "source": [
    "q = \"\"\"SELECT * FROM customer\"\"\""
   ]
  },
  {
   "cell_type": "code",
   "execution_count": null,
   "id": "5835455c-1494-4907-b60b-ed72b595cd1d",
   "metadata": {},
   "outputs": [],
   "source": [
    "dbConnection = alchemyEngine.connect();"
   ]
  },
  {
   "cell_type": "code",
   "execution_count": null,
   "id": "103e9ed4-f882-4639-a201-c57ab4b3e798",
   "metadata": {},
   "outputs": [],
   "source": [
    "import pandas as pd\n",
    "\n",
    "\n",
    "df = pd.read_sql(q, dbConnection);\n",
    "\n",
    "df"
   ]
  },
  {
   "cell_type": "code",
   "execution_count": null,
   "id": "800faa4d-3589-4c80-81d5-999f2faed6e0",
   "metadata": {},
   "outputs": [],
   "source": [
    "#A best practice is to close your connection when you're done.\n",
    "dbConnection.close();"
   ]
  },
  {
   "cell_type": "markdown",
   "id": "7d2a9108-1a02-4e5f-be0e-d5b71d6fadec",
   "metadata": {},
   "source": [
    "### Installing missing no and ydata-profiling libraries  needed in other notebooks."
   ]
  },
  {
   "cell_type": "code",
   "execution_count": null,
   "id": "6da88559-701d-4e75-9175-fddcdd5ceeb0",
   "metadata": {},
   "outputs": [],
   "source": [
    "!pip install -U missingno"
   ]
  },
  {
   "cell_type": "code",
   "execution_count": null,
   "id": "d1618348-1b84-4d37-9862-19fd568346e9",
   "metadata": {},
   "outputs": [],
   "source": [
    "!pip install -U ydata-profiling"
   ]
  },
  {
   "cell_type": "code",
   "execution_count": null,
   "id": "47ca2d0d-b3fe-4c6a-93c8-cc1b526f1bfc",
   "metadata": {},
   "outputs": [],
   "source": [
    "#Testing ydata profiling\n",
    "import numpy as np\n",
    "import pandas as pd\n",
    "from ydata_profiling import ProfileReport"
   ]
  },
  {
   "cell_type": "code",
   "execution_count": null,
   "id": "35bb3d4a-a071-474b-aeef-1ea8c92dbb60",
   "metadata": {},
   "outputs": [],
   "source": [
    "df = pd.DataFrame(np.random.rand(100, 5), columns=[\"a\", \"b\", \"c\", \"d\", \"e\"])"
   ]
  },
  {
   "cell_type": "code",
   "execution_count": null,
   "id": "d6b05a5a-e263-4a2a-83d1-d74097989cce",
   "metadata": {},
   "outputs": [],
   "source": [
    "profile = ProfileReport(df, title=\"Pandas Profiling Report\")"
   ]
  },
  {
   "cell_type": "code",
   "execution_count": null,
   "id": "daed1886-8c62-4af3-bfff-c46713385b8d",
   "metadata": {},
   "outputs": [],
   "source": [
    "profile.to_widgets()"
   ]
  },
  {
   "cell_type": "code",
   "execution_count": null,
   "id": "e078088d-56aa-42cc-99e6-2ba9e24f4adb",
   "metadata": {},
   "outputs": [],
   "source": [
    "profile"
   ]
  },
  {
   "cell_type": "code",
   "execution_count": null,
   "id": "ed348fe5-23a4-40cc-953b-b4ea31a59126",
   "metadata": {},
   "outputs": [],
   "source": [
    "profile.to_file(\"your_report.html\")"
   ]
  }
 ],
 "metadata": {
  "kernelspec": {
   "display_name": "Python 3 (ipykernel)",
   "language": "python",
   "name": "python3"
  },
  "language_info": {
   "codemirror_mode": {
    "name": "ipython",
    "version": 3
   },
   "file_extension": ".py",
   "mimetype": "text/x-python",
   "name": "python",
   "nbconvert_exporter": "python",
   "pygments_lexer": "ipython3",
   "version": "3.12.2"
  }
 },
 "nbformat": 4,
 "nbformat_minor": 5
}
